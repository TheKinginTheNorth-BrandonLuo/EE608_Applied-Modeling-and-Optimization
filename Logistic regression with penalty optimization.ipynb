{
 "cells": [
  {
   "cell_type": "code",
   "execution_count": 2,
   "metadata": {},
   "outputs": [
    {
     "name": "stdout",
     "output_type": "stream",
     "text": [
      "data shape:(569, 30);no.positive:(357,);no.negative:(212,)\n",
      "[1.799e+01 1.038e+01 1.228e+02 1.001e+03 1.184e-01 2.776e-01 3.001e-01\n",
      " 1.471e-01 2.419e-01 7.871e-02 1.095e+00 9.053e-01 8.589e+00 1.534e+02\n",
      " 6.399e-03 4.904e-02 5.373e-02 1.587e-02 3.003e-02 6.193e-03 2.538e+01\n",
      " 1.733e+01 1.846e+02 2.019e+03 1.622e-01 6.656e-01 7.119e-01 2.654e-01\n",
      " 4.601e-01 1.189e-01]\n"
     ]
    }
   ],
   "source": [
    "from sklearn.datasets import load_breast_cancer\n",
    "import warnings\n",
    "warnings.filterwarnings('ignore')\n",
    "cancer=load_breast_cancer()#加载乳腺癌数据\n",
    "X=cancer.data#加载乳腺癌判别特征\n",
    "y=cancer.target#两个特征，y=0时为阴性，y=1时为阳性\n",
    "print('data shape:{0};no.positive:{1};no.negative:{2}'.format(X.shape,y[y==1].shape,y[y==0].shape))\n",
    "print(cancer.data[0])#输出\n",
    "\n"
   ]
  },
  {
   "cell_type": "code",
   "execution_count": 3,
   "metadata": {},
   "outputs": [
    {
     "data": {
      "text/plain": [
       "{'data': array([[1.799e+01, 1.038e+01, 1.228e+02, ..., 2.654e-01, 4.601e-01,\n",
       "         1.189e-01],\n",
       "        [2.057e+01, 1.777e+01, 1.329e+02, ..., 1.860e-01, 2.750e-01,\n",
       "         8.902e-02],\n",
       "        [1.969e+01, 2.125e+01, 1.300e+02, ..., 2.430e-01, 3.613e-01,\n",
       "         8.758e-02],\n",
       "        ...,\n",
       "        [1.660e+01, 2.808e+01, 1.083e+02, ..., 1.418e-01, 2.218e-01,\n",
       "         7.820e-02],\n",
       "        [2.060e+01, 2.933e+01, 1.401e+02, ..., 2.650e-01, 4.087e-01,\n",
       "         1.240e-01],\n",
       "        [7.760e+00, 2.454e+01, 4.792e+01, ..., 0.000e+00, 2.871e-01,\n",
       "         7.039e-02]]),\n",
       " 'target': array([0, 0, 0, 0, 0, 0, 0, 0, 0, 0, 0, 0, 0, 0, 0, 0, 0, 0, 0, 1, 1, 1,\n",
       "        0, 0, 0, 0, 0, 0, 0, 0, 0, 0, 0, 0, 0, 0, 0, 1, 0, 0, 0, 0, 0, 0,\n",
       "        0, 0, 1, 0, 1, 1, 1, 1, 1, 0, 0, 1, 0, 0, 1, 1, 1, 1, 0, 1, 0, 0,\n",
       "        1, 1, 1, 1, 0, 1, 0, 0, 1, 0, 1, 0, 0, 1, 1, 1, 0, 0, 1, 0, 0, 0,\n",
       "        1, 1, 1, 0, 1, 1, 0, 0, 1, 1, 1, 0, 0, 1, 1, 1, 1, 0, 1, 1, 0, 1,\n",
       "        1, 1, 1, 1, 1, 1, 1, 0, 0, 0, 1, 0, 0, 1, 1, 1, 0, 0, 1, 0, 1, 0,\n",
       "        0, 1, 0, 0, 1, 1, 0, 1, 1, 0, 1, 1, 1, 1, 0, 1, 1, 1, 1, 1, 1, 1,\n",
       "        1, 1, 0, 1, 1, 1, 1, 0, 0, 1, 0, 1, 1, 0, 0, 1, 1, 0, 0, 1, 1, 1,\n",
       "        1, 0, 1, 1, 0, 0, 0, 1, 0, 1, 0, 1, 1, 1, 0, 1, 1, 0, 0, 1, 0, 0,\n",
       "        0, 0, 1, 0, 0, 0, 1, 0, 1, 0, 1, 1, 0, 1, 0, 0, 0, 0, 1, 1, 0, 0,\n",
       "        1, 1, 1, 0, 1, 1, 1, 1, 1, 0, 0, 1, 1, 0, 1, 1, 0, 0, 1, 0, 1, 1,\n",
       "        1, 1, 0, 1, 1, 1, 1, 1, 0, 1, 0, 0, 0, 0, 0, 0, 0, 0, 0, 0, 0, 0,\n",
       "        0, 0, 1, 1, 1, 1, 1, 1, 0, 1, 0, 1, 1, 0, 1, 1, 0, 1, 0, 0, 1, 1,\n",
       "        1, 1, 1, 1, 1, 1, 1, 1, 1, 1, 1, 0, 1, 1, 0, 1, 0, 1, 1, 1, 1, 1,\n",
       "        1, 1, 1, 1, 1, 1, 1, 1, 1, 0, 1, 1, 1, 0, 1, 0, 1, 1, 1, 1, 0, 0,\n",
       "        0, 1, 1, 1, 1, 0, 1, 0, 1, 0, 1, 1, 1, 0, 1, 1, 1, 1, 1, 1, 1, 0,\n",
       "        0, 0, 1, 1, 1, 1, 1, 1, 1, 1, 1, 1, 1, 0, 0, 1, 0, 0, 0, 1, 0, 0,\n",
       "        1, 1, 1, 1, 1, 0, 1, 1, 1, 1, 1, 0, 1, 1, 1, 0, 1, 1, 0, 0, 1, 1,\n",
       "        1, 1, 1, 1, 0, 1, 1, 1, 1, 1, 1, 1, 0, 1, 1, 1, 1, 1, 0, 1, 1, 0,\n",
       "        1, 1, 1, 1, 1, 1, 1, 1, 1, 1, 1, 1, 0, 1, 0, 0, 1, 0, 1, 1, 1, 1,\n",
       "        1, 0, 1, 1, 0, 1, 0, 1, 1, 0, 1, 0, 1, 1, 1, 1, 1, 1, 1, 1, 0, 0,\n",
       "        1, 1, 1, 1, 1, 1, 0, 1, 1, 1, 1, 1, 1, 1, 1, 1, 1, 0, 1, 1, 1, 1,\n",
       "        1, 1, 1, 0, 1, 0, 1, 1, 0, 1, 1, 1, 1, 1, 0, 0, 1, 0, 1, 0, 1, 1,\n",
       "        1, 1, 1, 0, 1, 1, 0, 1, 0, 1, 0, 0, 1, 1, 1, 0, 1, 1, 1, 1, 1, 1,\n",
       "        1, 1, 1, 1, 1, 0, 1, 0, 0, 1, 1, 1, 1, 1, 1, 1, 1, 1, 1, 1, 1, 1,\n",
       "        1, 1, 1, 1, 1, 1, 1, 1, 1, 1, 1, 1, 0, 0, 0, 0, 0, 0, 1]),\n",
       " 'target_names': array(['malignant', 'benign'], dtype='<U9'),\n",
       " 'DESCR': '.. _breast_cancer_dataset:\\n\\nBreast cancer wisconsin (diagnostic) dataset\\n--------------------------------------------\\n\\n**Data Set Characteristics:**\\n\\n    :Number of Instances: 569\\n\\n    :Number of Attributes: 30 numeric, predictive attributes and the class\\n\\n    :Attribute Information:\\n        - radius (mean of distances from center to points on the perimeter)\\n        - texture (standard deviation of gray-scale values)\\n        - perimeter\\n        - area\\n        - smoothness (local variation in radius lengths)\\n        - compactness (perimeter^2 / area - 1.0)\\n        - concavity (severity of concave portions of the contour)\\n        - concave points (number of concave portions of the contour)\\n        - symmetry \\n        - fractal dimension (\"coastline approximation\" - 1)\\n\\n        The mean, standard error, and \"worst\" or largest (mean of the three\\n        largest values) of these features were computed for each image,\\n        resulting in 30 features.  For instance, field 3 is Mean Radius, field\\n        13 is Radius SE, field 23 is Worst Radius.\\n\\n        - class:\\n                - WDBC-Malignant\\n                - WDBC-Benign\\n\\n    :Summary Statistics:\\n\\n    ===================================== ====== ======\\n                                           Min    Max\\n    ===================================== ====== ======\\n    radius (mean):                        6.981  28.11\\n    texture (mean):                       9.71   39.28\\n    perimeter (mean):                     43.79  188.5\\n    area (mean):                          143.5  2501.0\\n    smoothness (mean):                    0.053  0.163\\n    compactness (mean):                   0.019  0.345\\n    concavity (mean):                     0.0    0.427\\n    concave points (mean):                0.0    0.201\\n    symmetry (mean):                      0.106  0.304\\n    fractal dimension (mean):             0.05   0.097\\n    radius (standard error):              0.112  2.873\\n    texture (standard error):             0.36   4.885\\n    perimeter (standard error):           0.757  21.98\\n    area (standard error):                6.802  542.2\\n    smoothness (standard error):          0.002  0.031\\n    compactness (standard error):         0.002  0.135\\n    concavity (standard error):           0.0    0.396\\n    concave points (standard error):      0.0    0.053\\n    symmetry (standard error):            0.008  0.079\\n    fractal dimension (standard error):   0.001  0.03\\n    radius (worst):                       7.93   36.04\\n    texture (worst):                      12.02  49.54\\n    perimeter (worst):                    50.41  251.2\\n    area (worst):                         185.2  4254.0\\n    smoothness (worst):                   0.071  0.223\\n    compactness (worst):                  0.027  1.058\\n    concavity (worst):                    0.0    1.252\\n    concave points (worst):               0.0    0.291\\n    symmetry (worst):                     0.156  0.664\\n    fractal dimension (worst):            0.055  0.208\\n    ===================================== ====== ======\\n\\n    :Missing Attribute Values: None\\n\\n    :Class Distribution: 212 - Malignant, 357 - Benign\\n\\n    :Creator:  Dr. William H. Wolberg, W. Nick Street, Olvi L. Mangasarian\\n\\n    :Donor: Nick Street\\n\\n    :Date: November, 1995\\n\\nThis is a copy of UCI ML Breast Cancer Wisconsin (Diagnostic) datasets.\\nhttps://goo.gl/U2Uwz2\\n\\nFeatures are computed from a digitized image of a fine needle\\naspirate (FNA) of a breast mass.  They describe\\ncharacteristics of the cell nuclei present in the image.\\n\\nSeparating plane described above was obtained using\\nMultisurface Method-Tree (MSM-T) [K. P. Bennett, \"Decision Tree\\nConstruction Via Linear Programming.\" Proceedings of the 4th\\nMidwest Artificial Intelligence and Cognitive Science Society,\\npp. 97-101, 1992], a classification method which uses linear\\nprogramming to construct a decision tree.  Relevant features\\nwere selected using an exhaustive search in the space of 1-4\\nfeatures and 1-3 separating planes.\\n\\nThe actual linear program used to obtain the separating plane\\nin the 3-dimensional space is that described in:\\n[K. P. Bennett and O. L. Mangasarian: \"Robust Linear\\nProgramming Discrimination of Two Linearly Inseparable Sets\",\\nOptimization Methods and Software 1, 1992, 23-34].\\n\\nThis database is also available through the UW CS ftp server:\\n\\nftp ftp.cs.wisc.edu\\ncd math-prog/cpo-dataset/machine-learn/WDBC/\\n\\n.. topic:: References\\n\\n   - W.N. Street, W.H. Wolberg and O.L. Mangasarian. Nuclear feature extraction \\n     for breast tumor diagnosis. IS&T/SPIE 1993 International Symposium on \\n     Electronic Imaging: Science and Technology, volume 1905, pages 861-870,\\n     San Jose, CA, 1993.\\n   - O.L. Mangasarian, W.N. Street and W.H. Wolberg. Breast cancer diagnosis and \\n     prognosis via linear programming. Operations Research, 43(4), pages 570-577, \\n     July-August 1995.\\n   - W.H. Wolberg, W.N. Street, and O.L. Mangasarian. Machine learning techniques\\n     to diagnose breast cancer from fine-needle aspirates. Cancer Letters 77 (1994) \\n     163-171.',\n",
       " 'feature_names': array(['mean radius', 'mean texture', 'mean perimeter', 'mean area',\n",
       "        'mean smoothness', 'mean compactness', 'mean concavity',\n",
       "        'mean concave points', 'mean symmetry', 'mean fractal dimension',\n",
       "        'radius error', 'texture error', 'perimeter error', 'area error',\n",
       "        'smoothness error', 'compactness error', 'concavity error',\n",
       "        'concave points error', 'symmetry error',\n",
       "        'fractal dimension error', 'worst radius', 'worst texture',\n",
       "        'worst perimeter', 'worst area', 'worst smoothness',\n",
       "        'worst compactness', 'worst concavity', 'worst concave points',\n",
       "        'worst symmetry', 'worst fractal dimension'], dtype='<U23'),\n",
       " 'filename': '/Users/luofan/anaconda3/lib/python3.7/site-packages/sklearn/datasets/data/breast_cancer.csv'}"
      ]
     },
     "execution_count": 3,
     "metadata": {},
     "output_type": "execute_result"
    }
   ],
   "source": [
    "cancer"
   ]
  },
  {
   "cell_type": "code",
   "execution_count": 4,
   "metadata": {},
   "outputs": [],
   "source": [
    "from sklearn.model_selection import train_test_split\n",
    "X_train,X_test,y_train,y_test=train_test_split(X,y,test_size=0.2)#划分训练集和测试集\n",
    "\n"
   ]
  },
  {
   "cell_type": "code",
   "execution_count": 5,
   "metadata": {},
   "outputs": [
    {
     "name": "stdout",
     "output_type": "stream",
     "text": [
      "train score:0.951648;test score:0.956140\n"
     ]
    }
   ],
   "source": [
    "from sklearn.linear_model import LogisticRegression\n",
    "model=LogisticRegression()#逻辑回归模型的建立\n",
    "model.fit(X_train,y_train)#逻辑回归模型的训练\n",
    "train_score=model.score(X_train,y_train)#训练的得分\n",
    "test_score=model.score(X_test,y_test)#测试得分\n",
    "print('train score:{train_score:.6f};test score:{test_score:.6f}'.format(train_score=train_score,test_score=test_score))\n",
    "\n",
    "\n"
   ]
  },
  {
   "cell_type": "code",
   "execution_count": 6,
   "metadata": {},
   "outputs": [
    {
     "name": "stdout",
     "output_type": "stream",
     "text": [
      "matchs:114/114\n"
     ]
    }
   ],
   "source": [
    "import numpy as np\n",
    "y_pred=model.predict(X_test)#进行预测\n",
    "print('matchs:{0}/{1}'.format(np.equal(y_pred,y_test).shape[0],y_test.shape[0]))#test集的预测对比\n",
    "\n"
   ]
  },
  {
   "cell_type": "code",
   "execution_count": 7,
   "metadata": {},
   "outputs": [
    {
     "name": "stdout",
     "output_type": "stream",
     "text": [
      "sample of predict probability:[0.10076095 0.89923905]\n",
      "[[0.10076095 0.89923905]\n",
      " [0.85530119 0.14469881]\n",
      " [0.85746852 0.14253148]\n",
      " [0.20967073 0.79032927]\n",
      " [0.31757    0.68243   ]\n",
      " [0.27224567 0.72775433]\n",
      " [0.13847743 0.86152257]\n",
      " [0.56555318 0.43444682]\n",
      " [0.52084991 0.47915009]\n",
      " [0.1098606  0.8901394 ]\n",
      " [0.54360839 0.45639161]\n",
      " [0.81326758 0.18673242]\n",
      " [0.10882329 0.89117671]\n",
      " [0.7655087  0.2344913 ]\n",
      " [0.66693377 0.33306623]\n",
      " [0.85887203 0.14112797]]\n"
     ]
    }
   ],
   "source": [
    "y_pred_proba=model.predict_proba(X_test)#计算每个样本的预测概率\n",
    "print('sample of predict probability:{0}'.format(y_pred_proba[0]))#第一样本的预测概率\n",
    "y_pred_proba_0=y_pred_proba[:,0]>0.1#预测阴性超过10%的样本\n",
    "result=y_pred_proba[y_pred_proba_0]#对结果集再度计算预测概率\n",
    "y_pred_proba_1=result[:,1]>0.1#其中阳性大于10%的\n",
    "print(result[y_pred_proba_1])#输出\n",
    "\n"
   ]
  },
  {
   "cell_type": "code",
   "execution_count": 8,
   "metadata": {},
   "outputs": [],
   "source": [
    "from sklearn.linear_model import LogisticRegression\n",
    "from sklearn.preprocessing import PolynomialFeatures\n",
    "from sklearn.pipeline import Pipeline\n",
    "\n",
    "def polynomial_model(degree=1,**kwarg):#**kwarg是正则项的输入\n",
    "    polynomial_features=PolynomialFeatures(degree=degree,include_bias=False)#多项式\n",
    "    logistic_regression=LogisticRegression(**kwarg)#逻辑回归模型的建立\n",
    "    pipeline=Pipeline([(\"polynomial_features\",polynomial_features),(\"logistic_regression\",logistic_regression)])#生成模型\n",
    "    return pipeline\n",
    "\n"
   ]
  },
  {
   "cell_type": "code",
   "execution_count": 9,
   "metadata": {},
   "outputs": [
    {
     "name": "stdout",
     "output_type": "stream",
     "text": [
      "elaspe:0.298461;train_score:0.997802;cv_socre:0.982456;\n"
     ]
    }
   ],
   "source": [
    "import time\n",
    "model=polynomial_model(degree=2,penalty='l1')#使用L1范式作为正则项，进行稀疏化\n",
    "start=time.clock()#计时开始\n",
    "model.fit(X_train,y_train)#训练模型\n",
    "train_score=model.score(X_train,y_train)#训练集分数\n",
    "cv_score=model.score(X_test,y_test)#test集分数\n",
    "print('elaspe:{0:.6f};train_score:{1:.6f};cv_socre:{2:.6f};'.format(time.clock()-start,train_score,cv_score))\n",
    "\n"
   ]
  },
  {
   "cell_type": "code",
   "execution_count": 10,
   "metadata": {},
   "outputs": [
    {
     "name": "stdout",
     "output_type": "stream",
     "text": [
      "model parameters shape:(1, 495);count of non-zero element:101\n"
     ]
    }
   ],
   "source": [
    "logistic_regression=model.named_steps['logistic_regression']\n",
    "print('model parameters shape:{0};count of non-zero element:{1}'.format(\n",
    "    logistic_regression.coef_.shape,np.count_nonzero(logistic_regression.coef_)))\n",
    "\n"
   ]
  },
  {
   "cell_type": "code",
   "execution_count": 11,
   "metadata": {},
   "outputs": [],
   "source": [
    "from sklearn.model_selection import learning_curve\n",
    "from sklearn.model_selection import ShuffleSplit\n",
    "import numpy as np\n",
    "import matplotlib.pyplot as plt\n",
    "%matplotlib inline\n",
    "\n",
    "def plot_learning_curve(estimator,title,X,y,ylim=None,cv=None,n_jobs=1,train_sizes=np.linspace(0.1,1.0,5)):\n",
    "    plt.title(title)#图像标题\n",
    "    if ylim is not None:#y轴限制不为空时\n",
    "        plt.ylim(*ylim)\n",
    "    plt.xlabel(\"Training examples\")#两个标题\n",
    "    plt.ylabel(\"Score\")\n",
    "    train_sizes,train_scores,test_scores=learning_curve(estimator,X,y,cv=cv,n_jobs=n_jobs,train_sizes=train_sizes)#获取训练集大小，训练得分集合，测试得分集合\n",
    "    train_scores_mean=np.mean(train_scores,axis=1)#将训练得分集合按行的到平均值\n",
    "    train_scores_std=np.std(train_scores,axis=1)#计算训练矩阵的标准方差\n",
    "    test_scores_mean=np.mean(test_scores,axis=1)\n",
    "    test_scores_std=np.std(test_scores,axis=1)\n",
    "    plt.grid()#背景设置为网格线\n",
    "    \n",
    "    plt.fill_between(train_sizes,train_scores_mean-train_scores_std,train_scores_mean+train_scores_std,alpha=0.1,color='r')\n",
    "    # plt.fill_between()函数会把模型准确性的平均值的上下方差的空间里用颜色填充。\n",
    "    plt.fill_between(train_sizes,test_scores_mean-test_scores_std,test_scores_mean+test_scores_std,alpha=0.1,color='g')\n",
    "    plt.plot(train_sizes,train_scores_mean,'o-',color='r',label='Training score')\n",
    "    # 然后用plt.plot()函数画出模型准确性的平均值\n",
    "    plt.plot(train_sizes,test_scores_mean,'o-',color='g',label='Cross_validation score')\n",
    "    plt.legend(loc='best')#显示图例\n",
    "    return plt\n",
    "\n"
   ]
  },
  {
   "cell_type": "code",
   "execution_count": 14,
   "metadata": {},
   "outputs": [
    {
     "name": "stdout",
     "output_type": "stream",
     "text": [
      "elaspe:8.899691\n"
     ]
    },
    {
     "data": {
      "image/png": "[encoded data removed]",
      "text/plain": [
       "<Figure size 1728x576 with 2 Axes>"
      ]
     },
     "metadata": {
      "needs_background": "light"
     },
     "output_type": "display_data"
    }
   ],
   "source": [
    "cv=ShuffleSplit(n_splits=10,test_size=0.2,random_state=0)\n",
    "title='Learning Curve(degree={0},penalty={1})'\n",
    "degrees=[1,2]\n",
    "#penalty='l1'\n",
    "penalty='l2'\n",
    "\n",
    "\n",
    "\n",
    "\n",
    "start=time.clock()\n",
    "plt.figure(figsize=(12,4),dpi=144)\n",
    "for i in range(len(degrees)):\n",
    "    plt.subplot(1,2,i+1)\n",
    "    plot_learning_curve(polynomial_model(degree=degrees[i],penalty=penalty),title.format(degrees[i],penalty),X,y,ylim=(0.8,1.01),cv=cv)\n",
    "\n",
    "print('elaspe:{0:.6f}'.format(time.clock()-start))\n",
    "\n"
   ]
  },
  {
   "cell_type": "code",
   "execution_count": null,
   "metadata": {},
   "outputs": [],
   "source": []
  },
  {
   "cell_type": "code",
   "execution_count": null,
   "metadata": {},
   "outputs": [],
   "source": []
  },
  {
   "cell_type": "code",
   "execution_count": null,
   "metadata": {},
   "outputs": [],
   "source": []
  },
  {
   "cell_type": "code",
   "execution_count": null,
   "metadata": {},
   "outputs": [],
   "source": []
  },
  {
   "cell_type": "code",
   "execution_count": 4,
   "metadata": {},
   "outputs": [
    {
     "ename": "NameError",
     "evalue": "name 'X' is not defined",
     "output_type": "error",
     "traceback": [
      "\u001b[0;31m---------------------------------------------------------------------------\u001b[0m",
      "\u001b[0;31mNameError\u001b[0m                                 Traceback (most recent call last)",
      "\u001b[0;32m<ipython-input-4-1ae4f9f71ebf>\u001b[0m in \u001b[0;36m<module>\u001b[0;34m\u001b[0m\n\u001b[1;32m    166\u001b[0m \u001b[0;34m\u001b[0m\u001b[0m\n\u001b[1;32m    167\u001b[0m     \u001b[0mlda\u001b[0m \u001b[0;34m=\u001b[0m \u001b[0mLinearDiscriminantAnalysis\u001b[0m\u001b[0;34m(\u001b[0m\u001b[0mn_components\u001b[0m\u001b[0;34m=\u001b[0m\u001b[0;36m2\u001b[0m\u001b[0;34m)\u001b[0m\u001b[0;34m\u001b[0m\u001b[0;34m\u001b[0m\u001b[0m\n\u001b[0;32m--> 168\u001b[0;31m     \u001b[0mlda\u001b[0m\u001b[0;34m.\u001b[0m\u001b[0mfit\u001b[0m\u001b[0;34m(\u001b[0m\u001b[0mX\u001b[0m\u001b[0;34m,\u001b[0m \u001b[0my\u001b[0m\u001b[0;34m)\u001b[0m\u001b[0;34m\u001b[0m\u001b[0;34m\u001b[0m\u001b[0m\n\u001b[0m\u001b[1;32m    169\u001b[0m     \u001b[0mX\u001b[0m \u001b[0;34m=\u001b[0m \u001b[0mlda\u001b[0m\u001b[0;34m.\u001b[0m\u001b[0mtransform\u001b[0m\u001b[0;34m(\u001b[0m\u001b[0mX\u001b[0m\u001b[0;34m)\u001b[0m\u001b[0;34m\u001b[0m\u001b[0;34m\u001b[0m\u001b[0m\n\u001b[1;32m    170\u001b[0m \u001b[0;34m\u001b[0m\u001b[0m\n",
      "\u001b[0;31mNameError\u001b[0m: name 'X' is not defined"
     ]
    }
   ],
   "source": [
    "import math\n",
    "from sklearn.discriminant_analysis import LinearDiscriminantAnalysis\n",
    "\n",
    "\n",
    "class SVM():\n",
    "    def __init__(self, C, kernel, kernel_arg, e=0.001):\n",
    "        '''\n",
    "                                    kernel_arg\n",
    "        kernel的类型: 'linear':     1\n",
    "                    'poly':        d(d>1且为整数)\n",
    "                    'gaussian':    σ(σ>0)\n",
    "                    'lapras':      σ(σ>0)\n",
    "                    'sigmoid':     beta,theta(beta>0,theta<0)\n",
    "        kernel_arg若不符合要求将按照默认参数进行计算\n",
    "        C为目标函数非线性部分的权重\n",
    "        e为误差\n",
    "\n",
    "        '''\n",
    "        self.kernel = kernel\n",
    "        self.kernel_arg = kernel_arg\n",
    "        self.C = C\n",
    "        self.e = e\n",
    "        self.bias = 0\n",
    "\n",
    "    def kernel_function(self, x1, x2):\n",
    "        if self.kernel == 'linear':\n",
    "            return np.dot(x1, x2)\n",
    "        elif self.kernel == 'poly':\n",
    "            if isinstance(self.kernel_arg, int) == False:\n",
    "                self.kernel_arg = 2\n",
    "            return np.dot(x1, x2)**self.kernel_arg\n",
    "        elif self.kernel == 'gaussian':\n",
    "            if isinstance(self.kernel_arg, float) == False:\n",
    "                self.kernel_arg = 0.5\n",
    "            return math.exp(-np.linalg.norm(x1 - x2)**2 / (2 * self.kernel_arg**2))\n",
    "        elif self.kernel == 'lapras':\n",
    "            if isinstance(self.kernel_arg, float) == False:\n",
    "                self.kernel_arg = 0.5\n",
    "            return math.exp(-np.linalg.norm(x1 - x2) / self.kernel_arg)\n",
    "        elif self.kernel == 'sigmoid':\n",
    "            if len(self.kernel_arg) != 2:\n",
    "                self.kernel_arg = [0.5, -0.5]\n",
    "            if self.kernel_arg[0] <= 0:\n",
    "                self.kernel_arg[0] = 0.5\n",
    "            if self.kernel_arg[1] >= 0:\n",
    "                self.kernel_arg[1] = 0.5\n",
    "            return math.tanh(self.kernel_arg[0] * np.dot(x1, x2) + self.kernel_arg[1])\n",
    "\n",
    "    def fit(self, train_x, train_y, max_iter=1000):\n",
    "        self.train_x = np.array(train_x)\n",
    "        self.train_y = np.array(train_y)\n",
    "        self.alpha = np.zeros(train_x.shape[0])\n",
    "        iter = 0\n",
    "\n",
    "        while(iter < max_iter):\n",
    "            print('iter = {}'.format(iter))\n",
    "            index1, index2 = self.SMO_get_alpha()\n",
    "            if index1 == -1:\n",
    "                print('结束迭代, iter = {}'.format(iter))\n",
    "                break\n",
    "            train_result = self.SMO_train(index1, index2)\n",
    "            if train_result == True:\n",
    "                print('结束迭代, iter = {}'.format(iter))\n",
    "                break\n",
    "            iter += 1\n",
    "\n",
    "    def SMO_get_alpha(self):\n",
    "        for i in range(self.alpha.shape[0]):\n",
    "            if 0 < self.alpha[i] < self.C:\n",
    "                if self.train_y[i] * self.f(self.train_x[i]) != 1:\n",
    "                    index2 = self.choose_another_alpha(i)\n",
    "                    return i, index2\n",
    "        for i in range(self.alpha.shape[0]):\n",
    "            if self.alpha[i] == 0:\n",
    "                if self.train_y[i] * self.f(self.train_x[i]) < 1:\n",
    "                    index2 = self.choose_another_alpha(i)\n",
    "                    return i, index2\n",
    "            elif self.alpha[i] == self.C:\n",
    "                if self.train_y[i] * self.f(self.train_x[i]) > 1:\n",
    "                    index2 = self.choose_another_alpha(i)\n",
    "                    return i, index2\n",
    "        return -1, -1\n",
    "\n",
    "    def f(self, x):\n",
    "        result = 0\n",
    "        for i in range(self.alpha.shape[0]):\n",
    "            result += self.alpha[i] * self.train_y[i] * \\\n",
    "                self.kernel_function(self.train_x[i], x)\n",
    "        return result + self.bias\n",
    "\n",
    "    def error(self, index):\n",
    "        return self.f(self.train_x[index]) - self.train_y[index]\n",
    "\n",
    "    def choose_another_alpha(self, index):\n",
    "        result_index = 0\n",
    "        temp_diff_error = 0\n",
    "        for i in range(self.alpha.shape[0]):\n",
    "            diff_error = np.abs(self.error(index) - self.error(i))\n",
    "            if diff_error > temp_diff_error:\n",
    "                temp_diff_error = diff_error\n",
    "                result_index = i\n",
    "        return result_index\n",
    "\n",
    "    def SMO_train(self, index1, index2):\n",
    "        old_alpha = self.alpha.copy()\n",
    "        x1 = self.train_x[index1]\n",
    "        y1 = self.train_y[index1]\n",
    "        x2 = self.train_x[index2]\n",
    "        y2 = self.train_y[index2]\n",
    "\n",
    "        eta = self.kernel_function(\n",
    "            x1, x1) + self.kernel_function(x2, x2) - 2 * self.kernel_function(x1, x2)\n",
    "        alpha2 = old_alpha[index2] + y2 * \\\n",
    "            (self.error(index1) - self.error(index2)) / eta\n",
    "\n",
    "        if y1 != y2:\n",
    "            L = max(0, old_alpha[index2] - old_alpha[index1])\n",
    "            H = min(self.C, self.C + old_alpha[index2] - old_alpha[index1])\n",
    "        else:\n",
    "            L = max(0, old_alpha[index1] + old_alpha[index2] - self.C)\n",
    "            H = min(self.C, old_alpha[index1] + old_alpha[index2])\n",
    "\n",
    "        if alpha2 > H:\n",
    "            alpha2 = H\n",
    "        elif alpha2 < L:\n",
    "            alpha2 = L\n",
    "\n",
    "        alpha1 = old_alpha[index1] + y1 * y2 * (old_alpha[index2] - alpha2)\n",
    "\n",
    "        self.alpha[index1] = alpha1\n",
    "        self.alpha[index2] = alpha2\n",
    "\n",
    "        b1 = -self.error(index1) \\\n",
    "            - y1 * self.kernel_function(x1, x1) * (alpha1 - old_alpha[index1]) \\\n",
    "            - y2 * self.kernel_function(x1, x2) * (alpha2 - old_alpha[index2]) \\\n",
    "            + self.bias\n",
    "\n",
    "        b2 = -self.error(index2) \\\n",
    "            - y1 * self.kernel_function(x1, x2) * (alpha1 - old_alpha[index1]) \\\n",
    "            - y2 * self.kernel_function(x2, x2) * (alpha2 - old_alpha[index2]) \\\n",
    "            + self.bias\n",
    "        if 0 < alpha1 < self.C:\n",
    "            self.bias = b1\n",
    "        elif 0 < alpha2 < self.C:\n",
    "            self.bias = b2\n",
    "        else:\n",
    "            self.bias = (b1 + b2) / 2\n",
    "\n",
    "        print('E = {}'.format(np.linalg.norm(old_alpha - self.alpha)))\n",
    "        if np.linalg.norm(old_alpha - self.alpha) < self.e:\n",
    "            return True\n",
    "        else:\n",
    "            return False\n",
    "\n",
    "    def predict_one(self, x):\n",
    "        if self.f(x) > 0:\n",
    "            return 1\n",
    "        else:\n",
    "            return -1\n",
    "\n",
    "    def predict(self, x_group):\n",
    "        return np.array([self.predict_one(x) for x in x_group])\n",
    "\n",
    "\n",
    "if __name__ == '__main__':\n",
    "\n",
    "    lda = LinearDiscriminantAnalysis(n_components=2)\n",
    "    lda.fit(X, y)\n",
    "    X = lda.transform(X)\n",
    "\n",
    "    train_data = X[0::2, :]\n",
    "    train_label = y[0::2]\n",
    "    for i in range(train_label.shape[0]):\n",
    "        if train_label[i] != 1:\n",
    "            train_label[i] = -1\n",
    "        else:\n",
    "            train_label[i] = 1\n",
    "\n",
    "    test_data = X[1::2, :]\n",
    "    test_label = y[1::2]\n",
    "\n",
    "    for i in range(test_label.shape[0]):\n",
    "        if test_label[i] != 1:\n",
    "            test_label[i] = -1\n",
    "        else:\n",
    "            test_label[i] = 1\n",
    "\n",
    "    svm = SVM(5, 'gaussian', 0.5, 0.001)\n",
    "    svm.fit(train_data, train_label)\n",
    "\n",
    "    predict_label = svm.predict(test_data)\n",
    "    a = predict_label - test_label\n",
    "    print(a)\n",
    "\n",
    "    # print(svm.alpha)\n",
    "    count = 0\n",
    "    for i in range(a.shape[0]):\n",
    "        if a[i] == 0:\n",
    "            count += 1\n",
    "    print(count / test_label.shape[0])\n",
    "\n",
    "    points = []\n",
    "    for i in np.linspace(-10.0, 10.0, num=400):#获取超平面上的点为了作图\n",
    "        for j in np.linspace(-5.0, 5.0, num=200):\n",
    "            x_ij = np.array([i, j])\n",
    "            if -0.05 < svm.f(x_ij) < 0.05:\n",
    "                tmp = [i, j]\n",
    "                points.append(tmp)\n",
    "\n",
    "    points = np.array(points)\n",
    "    print(points)\n",
    "    plt.scatter(X[:, 0], X[:, 1], marker='o', c=y)\n",
    "\n",
    "    plt.scatter(points[:, 0], points[:, 1], marker='o')\n",
    "\n",
    "    plt.show()"
   ]
  },
  {
   "cell_type": "code",
   "execution_count": null,
   "metadata": {},
   "outputs": [],
   "source": []
  }
 ],
 "metadata": {
  "kernelspec": {
   "display_name": "Python 3",
   "language": "python",
   "name": "python3"
  },
  "language_info": {
   "codemirror_mode": {
    "name": "ipython",
    "version": 3
   },
   "file_extension": ".py",
   "mimetype": "text/x-python",
   "name": "python",
   "nbconvert_exporter": "python",
   "pygments_lexer": "ipython3",
   "version": "3.7.3"
  }
 },
 "nbformat": 4,
 "nbformat_minor": 2
}
